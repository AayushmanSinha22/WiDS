{
 "cells": [
  {
   "cell_type": "code",
   "execution_count": 6,
   "id": "240f9a57",
   "metadata": {},
   "outputs": [
    {
     "ename": "NameError",
     "evalue": "name 'File' is not defined",
     "output_type": "error",
     "traceback": [
      "\u001b[1;31m---------------------------------------------------------------------------\u001b[0m",
      "\u001b[1;31mNameError\u001b[0m                                 Traceback (most recent call last)",
      "\u001b[1;32m~\\AppData\\Local\\Temp\\ipykernel_12508\\343793764.py\u001b[0m in \u001b[0;36m<module>\u001b[1;34m\u001b[0m\n\u001b[0;32m      6\u001b[0m \u001b[0mi\u001b[0m \u001b[1;33m=\u001b[0m \u001b[1;36m0\u001b[0m                   \u001b[1;31m#Counter Variable to keep track of index of words\u001b[0m\u001b[1;33m\u001b[0m\u001b[1;33m\u001b[0m\u001b[0m\n\u001b[0;32m      7\u001b[0m \u001b[1;33m\u001b[0m\u001b[0m\n\u001b[1;32m----> 8\u001b[1;33m \u001b[1;32mfor\u001b[0m \u001b[0mline\u001b[0m \u001b[1;32min\u001b[0m \u001b[0mFile\u001b[0m\u001b[1;33m.\u001b[0m\u001b[0mreadlines\u001b[0m\u001b[1;33m(\u001b[0m\u001b[1;33m)\u001b[0m\u001b[1;33m:\u001b[0m     \u001b[1;31m#Iterate over all lines present in the text\u001b[0m\u001b[1;33m\u001b[0m\u001b[1;33m\u001b[0m\u001b[0m\n\u001b[0m\u001b[0;32m      9\u001b[0m \u001b[1;33m\u001b[0m\u001b[0m\n\u001b[0;32m     10\u001b[0m     \u001b[1;31m#Look at Python's Conciseness!\u001b[0m\u001b[1;33m\u001b[0m\u001b[1;33m\u001b[0m\u001b[0m\n",
      "\u001b[1;31mNameError\u001b[0m: name 'File' is not defined"
     ]
    }
   ],
   "source": [
    "DictionaryOfWords = {}         #Dictionary mapping every word to a list (of indices of the words' occurences)\n",
    "Novel = []                     #List of all words in the order, in which they appear!\n",
    "\n",
    "\n",
    "\n",
    "i = 0                   #Counter Variable to keep track of index of words\n",
    "\n",
    "for line in File.readlines():     #Iterate over all lines present in the text\n",
    "    \n",
    "    #Look at Python's Conciseness!\n",
    "    \n",
    "    line = line.replace(\".\",\"\").replace(\",\",\"\").replace('?','').replace('!','').replace('[','').replace(']','')\\\n",
    "    .replace('(','').replace(')','').replace('%','').replace('/','')\n",
    "      \n",
    "    #COMPLETE THE CODE FROM HERE:\n",
    "    \n",
    "    #This would split the line into many different words, and iterate over these words\n",
    "    \n",
    "    for word in line.split(' '): \n",
    "                                                                             \n",
    "        if word in DictonaryOfWords.keys():     #If the word is already present in the dictionary\n",
    "                                                                             \n",
    "            DictionaryOfWords[word].append(i)       #Add the index into the pre-existing list for this word\n",
    "                                                                             \n",
    "        else:\n",
    "             DictionaryOfWords[word]=i    #Create a new list of indices for this word, with a single element\n",
    "                                                                             \n",
    "        \n",
    "        Novel.append(word)        #Add the Word in the Novel's ordered list of words\n",
    "                                                                             \n",
    "        i+=1"
   ]
  },
  {
   "cell_type": "code",
   "execution_count": 9,
   "id": "35106549",
   "metadata": {},
   "outputs": [
    {
     "ename": "FileNotFoundError",
     "evalue": "[Errno 2] No such file or directory: 'HarryPotterAndTheSorcerersStone.txt'",
     "output_type": "error",
     "traceback": [
      "\u001b[1;31m---------------------------------------------------------------------------\u001b[0m",
      "\u001b[1;31mFileNotFoundError\u001b[0m                         Traceback (most recent call last)",
      "\u001b[1;32m~\\AppData\\Local\\Temp\\ipykernel_12508\\511576866.py\u001b[0m in \u001b[0;36m<module>\u001b[1;34m\u001b[0m\n\u001b[1;32m----> 1\u001b[1;33m \u001b[0mFile\u001b[0m \u001b[1;33m=\u001b[0m \u001b[0mopen\u001b[0m\u001b[1;33m(\u001b[0m\u001b[1;34m\"HarryPotterAndTheSorcerersStone.txt\"\u001b[0m\u001b[1;33m,\u001b[0m\u001b[1;34m'r'\u001b[0m\u001b[1;33m)\u001b[0m     \u001b[1;31m#This helps in opening the file which is to be read\u001b[0m\u001b[1;33m\u001b[0m\u001b[1;33m\u001b[0m\u001b[0m\n\u001b[0m",
      "\u001b[1;31mFileNotFoundError\u001b[0m: [Errno 2] No such file or directory: 'HarryPotterAndTheSorcerersStone.txt'"
     ]
    }
   ],
   "source": [
    "File = open(\"HarryPotterAndTheSorcerersStone.txt\",'r')     #This helps in opening the file which is to be read"
   ]
  },
  {
   "cell_type": "code",
   "execution_count": 7,
   "id": "2abf2196",
   "metadata": {},
   "outputs": [],
   "source": [
    "\n",
    "def GetQuery():\n",
    "   \n",
    "    word = input(\"Enter the word \\n\")        #Get Input from the user regarding what word s/he wants to query for\n",
    "\n",
    "    Number =int(input(\"Enter how \"))    #Get Input from the user regarding how many results the user wants to see\n",
    "\n",
    "    return (word, Number)                 #Return as output a tuple of the word and the Number of results "
   ]
  },
  {
   "cell_type": "code",
   "execution_count": 8,
   "id": "a2ab11ef",
   "metadata": {},
   "outputs": [],
   "source": [
    "def PrintContext(index):\n",
    "    \n",
    "    global Novel                          #Declares the list Novel as a Global Variable\n",
    "    \n",
    "    #COMPLETE THE CODE FROM HERE:\n",
    "    \n",
    "    for i in range( index-5, index+5 ) :           #Define the range so that the task above is fulfilled\n",
    "        \n",
    "        print(Novel[index+i], end = ' ')          #Print the word (using List Indexing) with a space after that\n",
    "        \n",
    "    print('\\n')"
   ]
  },
  {
   "cell_type": "code",
   "execution_count": null,
   "id": "2aa9becb",
   "metadata": {},
   "outputs": [],
   "source": [
    "def PrintResult(word, NumQuery):\n",
    "  \n",
    "    global DictionaryOfWords                #Allows us to use the Dictionary as a global variable\n",
    "    \n",
    "    #COMPLETE THE CODE FROM HERE:\n",
    "    \n",
    "    L = DictionaryOfWords[word] \n",
    "    \n",
    "    for i in range(0,min(len(L),NumQuery)):\n",
    "        \n",
    "        PrintContext(L[i])             #Actually print the words surrounding the ith occurence of the given word"
   ]
  },
  {
   "cell_type": "code",
   "execution_count": null,
   "id": "1360f08e",
   "metadata": {},
   "outputs": [],
   "source": [
    "while 1>0 :   \n",
    "    \n",
    "    Choice = input('Press Y in order to Continue with the next query or N to end. \\ \n",
    "    Please press Enter after entering your choice!')\n",
    "    \n",
    "    #COMPLETE THE CODE FROM HERE:\n",
    "    \n",
    "    if Choice== 'Y' :                     # If the user wants to query \n",
    "        \n",
    "        GetQuery()                     #Use some of the past defined function to do so\n",
    "        \n",
    "    else:\n",
    "        \n",
    "        break                                 #Else end the loop"
   ]
  }
 ],
 "metadata": {
  "kernelspec": {
   "display_name": "Python 3 (ipykernel)",
   "language": "python",
   "name": "python3"
  },
  "language_info": {
   "codemirror_mode": {
    "name": "ipython",
    "version": 3
   },
   "file_extension": ".py",
   "mimetype": "text/x-python",
   "name": "python",
   "nbconvert_exporter": "python",
   "pygments_lexer": "ipython3",
   "version": "3.9.13"
  }
 },
 "nbformat": 4,
 "nbformat_minor": 5
}
