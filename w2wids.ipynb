{
 "cells": [
  {
   "cell_type": "code",
   "execution_count": 5,
   "id": "e2331660",
   "metadata": {},
   "outputs": [],
   "source": [
    "import numpy as np\n",
    "import pandas as pd\n",
    "import matplotlib.pyplot as plt"
   ]
  },
  {
   "cell_type": "code",
   "execution_count": 6,
   "id": "5105fbd4",
   "metadata": {},
   "outputs": [],
   "source": [
    "o = pd.read_csv('data_october.csv', index_col = 0)\n",
    "n = pd.read_csv('data_november.csv', index_col = 0)\n",
    "d = pd.read_csv('data_december.csv', index_col = 0)"
   ]
  },
  {
   "cell_type": "code",
   "execution_count": 7,
   "id": "2053a31f",
   "metadata": {},
   "outputs": [
    {
     "name": "stdout",
     "output_type": "stream",
     "text": [
      "       Unnamed: 0               event_time event_type  product_id  \\\n",
      "0               0  2019-10-01 00:00:00 UTC       cart   5773203.0   \n",
      "1               1  2019-10-01 00:00:03 UTC       cart   5773353.0   \n",
      "2               2  2019-10-01 00:00:07 UTC       cart   5881589.0   \n",
      "3               3  2019-10-01 00:00:07 UTC       cart   5723490.0   \n",
      "4               4  2019-10-01 00:00:15 UTC       cart   5881449.0   \n",
      "...           ...                      ...        ...         ...   \n",
      "62641     3533281  2019-12-31 23:59:39 UTC       view   5683350.0   \n",
      "62642     3533282  2019-12-31 23:59:46 UTC       view   5888097.0   \n",
      "62643     3533283  2019-12-31 23:59:51 UTC       view     59975.0   \n",
      "62644     3533284  2019-12-31 23:59:52 UTC       view   5775982.0   \n",
      "62645     3533285  2019-12-31 23:59:57 UTC       view   5635090.0   \n",
      "\n",
      "        category_id category_code   brand   price      user_id  \\\n",
      "0      1.487580e+18           NaN  runail    2.62  463240011.0   \n",
      "1      1.487580e+18           NaN  runail    2.62  463240011.0   \n",
      "2      2.151191e+18           NaN  lovely   13.48  429681830.0   \n",
      "3      1.487580e+18           NaN  runail    2.62  463240011.0   \n",
      "4      1.487580e+18           NaN  lovely    0.56  429681830.0   \n",
      "...             ...           ...     ...     ...          ...   \n",
      "62641  1.487580e+18           NaN  masura    2.84  536812729.0   \n",
      "62642  1.487580e+18           NaN    shik  179.05  503658154.0   \n",
      "62643  1.487580e+18           NaN     NaN    7.14  595414541.0   \n",
      "62644  1.783999e+18           NaN     NaN   11.90  397780878.0   \n",
      "62645  1.487580e+18           NaN     NaN    4.44  420652863.0   \n",
      "\n",
      "                               user_session  \n",
      "0      26dd6e6e-4dac-4778-8d2c-92e149dab885  \n",
      "1      26dd6e6e-4dac-4778-8d2c-92e149dab885  \n",
      "2      49e8d843-adf3-428b-a2c3-fe8bc6a307c9  \n",
      "3      26dd6e6e-4dac-4778-8d2c-92e149dab885  \n",
      "4      49e8d843-adf3-428b-a2c3-fe8bc6a307c9  \n",
      "...                                     ...  \n",
      "62641  e4a2d47c-a956-4c46-8176-745f52ea664b  \n",
      "62642  2dde9867-9e71-4a64-880d-aa68b66aae6d  \n",
      "62643  4c6d80bb-5dd3-4fbb-b592-187b51db2753  \n",
      "62644  7e8a2b85-153a-44eb-a71f-b748fde14fcc  \n",
      "62645  546f6af3-a517-4752-a98b-80c4c5860711  \n",
      "\n",
      "[62646 rows x 10 columns]\n"
     ]
    }
   ],
   "source": [
    "data = pd.concat([o, n, d], ignore_index = True)\n",
    "print(data)"
   ]
  },
  {
   "cell_type": "code",
   "execution_count": 9,
   "id": "19500cf2",
   "metadata": {},
   "outputs": [
    {
     "name": "stdout",
     "output_type": "stream",
     "text": [
      "In the month of October:\n",
      "\tTotal number of sales:  1093\n",
      "\tTotal income:  5179.0799999999745\n",
      "\n",
      "\n",
      "In the month of November:\n",
      "\tTotal number of sales:  969\n",
      "\tTotal income:  4958.219999999997\n",
      "\n",
      "\n",
      "In the month of December:\n",
      "\tTotal number of sales:  764\n",
      "\tTotal income:  3684.009999999999\n"
     ]
    }
   ],
   "source": [
    "def salerevenue(df1):\n",
    "    df1.drop_duplicates(inplace = True)\n",
    "    df2 = df1.dropna(subset = ['brand'])\n",
    "    total_sales = 0\n",
    "    total_income = 0\n",
    "    for i in df2.index:\n",
    "        if df2.loc[i,'event_type'] == 'purchase':\n",
    "            total_income += df2.loc[i,'price']\n",
    "            total_sales += 1\n",
    "    return (total_sales,total_income)\n",
    "\n",
    "\n",
    "print(\"In the month of October:\")\n",
    "total_sales,total_income = salerevenue(o)\n",
    "print(\"\\tTotal number of sales: \",total_sales)\n",
    "print(\"\\tTotal income: \",total_income)\n",
    "print('\\n')\n",
    "\n",
    "print(\"In the month of November:\")\n",
    "total_sales,total_income = salerevenue(n)\n",
    "print(\"\\tTotal number of sales: \",total_sales)\n",
    "print(\"\\tTotal income: \",total_income)\n",
    "print('\\n')\n",
    "\n",
    "print(\"In the month of December:\")\n",
    "total_sales,total_income = salerevenue(d)\n",
    "print(\"\\tTotal number of sales: \",total_sales)\n",
    "print(\"\\tTotal income: \",total_income)"
   ]
  },
  {
   "cell_type": "code",
   "execution_count": 10,
   "id": "52053676",
   "metadata": {},
   "outputs": [
    {
     "name": "stdout",
     "output_type": "stream",
     "text": [
      "October:\n",
      "\tTop five brands according to number of sales:\n",
      "\t 1 runail 343\n",
      "\t 2 irisk 89\n",
      "\t 3 masura 89\n",
      "\t 4 bpw.style 51\n",
      "\t 5 bluesky 47\n",
      "\n",
      "\n",
      "\tTop five brands according to revenue:\n",
      "\t 1 runail 971.1200000000001\n",
      "\t 2 uno 433.5699999999999\n",
      "\t 3 irisk 261.77\n",
      "\t 4 masura 232.50000000000003\n",
      "\t 5 italwax 214.11999999999992\n",
      "\n",
      "\n",
      "November:\n",
      "\tTop five brands according to number of sales:\n",
      "\t 1 irisk 241\n",
      "\t 2 runail 94\n",
      "\t 3 masura 92\n",
      "\t 4 ingarden 47\n",
      "\t 5 bpw.style 40\n",
      "\n",
      "\n",
      "\tTop five brands according to revenue:\n",
      "\t 1 irisk 623.720000000001\n",
      "\t 2 strong 583.3199999999999\n",
      "\t 3 runail 327.48\n",
      "\t 4 masura 227.64\n",
      "\t 5 ingarden 216.92000000000002\n",
      "\n",
      "\n",
      "December:\n",
      "\tTop five brands according to number of sales:\n",
      "\t 1 runail 125\n",
      "\t 2 bpw.style 77\n",
      "\t 3 grattol 55\n",
      "\t 4 freedecor 51\n",
      "\t 5 irisk 46\n",
      "\n",
      "\n",
      "\tTop five brands according to revenue:\n",
      "\t 1 runail 421.5599999999999\n",
      "\t 2 grattol 325.4800000000001\n",
      "\t 3 irisk 219.63000000000005\n",
      "\t 4 ingarden 188.52999999999994\n",
      "\t 5 jessnail 180.2\n"
     ]
    }
   ],
   "source": [
    "def brands(df):\n",
    "    df.drop_duplicates(inplace=True)\n",
    "    df2 = df.dropna(subset=[\"brand\"])\n",
    "    sales = {}\n",
    "    for i in df2.index:\n",
    "        if df2.loc[i,\"event_type\"] == \"purchase\":\n",
    "            brand = df2.loc[i,\"brand\"]\n",
    "            if brand in sales.keys():\n",
    "                sales[brand][0] += 1\n",
    "                sales[brand][1] += df2.loc[i,'price']\n",
    "            else:\n",
    "                sales[brand] = [1,df2.loc[i,'price']]\n",
    "    sorted_saleswise = sorted(sales.items(),key= lambda x:x[1][0],reverse = True)\n",
    "    sorted_incomewise = sorted(sales.items(),key= lambda x:x[1][1],reverse = True)\n",
    "    print(\"\\tTop five brands according to number of sales:\")\n",
    "    for i in range(0,5):\n",
    "        print(\"\\t\",i+1,sorted_saleswise[i][0], sorted_saleswise[i][1][0])\n",
    "    print(\"\\n\")\n",
    "    print(\"\\tTop five brands according to revenue:\")\n",
    "    for i in range(0,5):\n",
    "        print(\"\\t\",i+1,sorted_incomewise[i][0],sorted_incomewise[i][1][1])\n",
    "        \n",
    "print(\"October:\")\n",
    "brands(o)\n",
    "print(\"\\n\")\n",
    "print(\"November:\")\n",
    "brands(n)\n",
    "print(\"\\n\")\n",
    "print(\"December:\")\n",
    "brands(d)"
   ]
  },
  {
   "cell_type": "code",
   "execution_count": 12,
   "id": "957f5b0a",
   "metadata": {},
   "outputs": [
    {
     "ename": "NameError",
     "evalue": "name 'df' is not defined",
     "output_type": "error",
     "traceback": [
      "\u001b[1;31m---------------------------------------------------------------------------\u001b[0m",
      "\u001b[1;31mNameError\u001b[0m                                 Traceback (most recent call last)",
      "\u001b[1;32m~\\AppData\\Local\\Temp\\ipykernel_1324\\4065912045.py\u001b[0m in \u001b[0;36m<module>\u001b[1;34m\u001b[0m\n\u001b[0;32m      6\u001b[0m \u001b[0mwidth\u001b[0m \u001b[1;33m=\u001b[0m \u001b[1;36m0.25\u001b[0m\u001b[1;33m\u001b[0m\u001b[1;33m\u001b[0m\u001b[0m\n\u001b[0;32m      7\u001b[0m \u001b[1;33m\u001b[0m\u001b[0m\n\u001b[1;32m----> 8\u001b[1;33m \u001b[0mxvals\u001b[0m \u001b[1;33m=\u001b[0m \u001b[1;33m[\u001b[0m\u001b[0mdf\u001b[0m\u001b[1;33m[\u001b[0m\u001b[0mdf\u001b[0m\u001b[1;33m[\u001b[0m\u001b[1;34m'brand'\u001b[0m\u001b[1;33m]\u001b[0m\u001b[1;33m==\u001b[0m\u001b[1;34m'runail'\u001b[0m\u001b[1;33m]\u001b[0m\u001b[1;33m[\u001b[0m\u001b[1;34m'price'\u001b[0m\u001b[1;33m]\u001b[0m\u001b[1;33m.\u001b[0m\u001b[0msum\u001b[0m\u001b[1;33m(\u001b[0m\u001b[1;33m)\u001b[0m\u001b[1;33m,\u001b[0m \u001b[0mdf\u001b[0m\u001b[1;33m[\u001b[0m\u001b[0mdf\u001b[0m\u001b[1;33m[\u001b[0m\u001b[1;34m'brand'\u001b[0m\u001b[1;33m]\u001b[0m\u001b[1;33m==\u001b[0m\u001b[1;34m'irisk'\u001b[0m\u001b[1;33m]\u001b[0m\u001b[1;33m[\u001b[0m\u001b[1;34m'price'\u001b[0m\u001b[1;33m]\u001b[0m\u001b[1;33m.\u001b[0m\u001b[0msum\u001b[0m\u001b[1;33m(\u001b[0m\u001b[1;33m)\u001b[0m\u001b[1;33m,\u001b[0m \u001b[0mdf\u001b[0m\u001b[1;33m[\u001b[0m\u001b[0mdf\u001b[0m\u001b[1;33m[\u001b[0m\u001b[1;34m'brand'\u001b[0m\u001b[1;33m]\u001b[0m\u001b[1;33m==\u001b[0m\u001b[1;34m'masura'\u001b[0m\u001b[1;33m]\u001b[0m\u001b[1;33m[\u001b[0m\u001b[1;34m'price'\u001b[0m\u001b[1;33m]\u001b[0m\u001b[1;33m.\u001b[0m\u001b[0msum\u001b[0m\u001b[1;33m(\u001b[0m\u001b[1;33m)\u001b[0m\u001b[1;33m]\u001b[0m\u001b[1;33m\u001b[0m\u001b[1;33m\u001b[0m\u001b[0m\n\u001b[0m\u001b[0;32m      9\u001b[0m \u001b[0mbar1\u001b[0m \u001b[1;33m=\u001b[0m \u001b[0mplt\u001b[0m\u001b[1;33m.\u001b[0m\u001b[0mbar\u001b[0m\u001b[1;33m(\u001b[0m\u001b[0mind\u001b[0m\u001b[1;33m,\u001b[0m \u001b[0mxvals\u001b[0m\u001b[1;33m,\u001b[0m \u001b[0mwidth\u001b[0m\u001b[1;33m,\u001b[0m \u001b[0mcolor\u001b[0m \u001b[1;33m=\u001b[0m \u001b[1;34m'y'\u001b[0m\u001b[1;33m)\u001b[0m\u001b[1;33m\u001b[0m\u001b[1;33m\u001b[0m\u001b[0m\n\u001b[0;32m     10\u001b[0m \u001b[1;33m\u001b[0m\u001b[0m\n",
      "\u001b[1;31mNameError\u001b[0m: name 'df' is not defined"
     ]
    }
   ],
   "source": [
    "import numpy as np\n",
    "import matplotlib.pyplot as plt\n",
    "  \n",
    "N = 3\n",
    "ind = np.arange(N) \n",
    "width = 0.25\n",
    "  \n",
    "xvals = [df[df['brand']=='runail']['price'].sum(), df[df['brand']=='irisk']['price'].sum(), df[df['brand']=='masura']['price'].sum()]\n",
    "bar1 = plt.bar(ind, xvals, width, color = 'y')\n",
    "  \n",
    "yvals = [df2[df2['brand']=='runail']['price'].sum(), df2[df2['brand']=='irisk']['price'].sum(), df2[df2['brand']=='masura']['price'].sum()]\n",
    "bar2 = plt.bar(ind+width, yvals, width, color='c')\n",
    "  \n",
    "zvals = [df3[df3['brand']=='runail']['price'].sum(), df3[df3['brand']=='irisk']['price'].sum(), df3[df3['brand']=='masura']['price'].sum()]\n",
    "bar3 = plt.bar(ind+width*2, zvals, width, color = 'orange')\n",
    "  \n",
    "plt.xlabel(\"Brands\")\n",
    "plt.ylabel(\"Sales\")\n",
    "plt.title(\"Top 3 Brands' Sales\")\n",
    "  \n",
    "plt.xticks(ind+width,['runail', 'irisk', 'masura'])\n",
    "plt.legend( (bar1, bar2, bar3), ('October', 'November', 'December') )\n",
    "plt.show()"
   ]
  },
  {
   "cell_type": "code",
   "execution_count": null,
   "id": "b87ecf3d",
   "metadata": {},
   "outputs": [],
   "source": []
  }
 ],
 "metadata": {
  "kernelspec": {
   "display_name": "Python 3 (ipykernel)",
   "language": "python",
   "name": "python3"
  },
  "language_info": {
   "codemirror_mode": {
    "name": "ipython",
    "version": 3
   },
   "file_extension": ".py",
   "mimetype": "text/x-python",
   "name": "python",
   "nbconvert_exporter": "python",
   "pygments_lexer": "ipython3",
   "version": "3.9.13"
  }
 },
 "nbformat": 4,
 "nbformat_minor": 5
}
